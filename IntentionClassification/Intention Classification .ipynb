{
 "cells": [
  {
   "cell_type": "code",
   "execution_count": 3,
   "metadata": {},
   "outputs": [],
   "source": [
    "from rasa_nlu.training_data  import load_data\n",
    "from rasa_nlu.config import RasaNLUModelConfig\n",
    "from rasa_nlu.model import Trainer\n",
    "from rasa_nlu import config\n",
    "from joblib import load, dump \n",
    "from rasa_nlu.model import Metadata, Interpreter"
   ]
  },
  {
   "cell_type": "code",
   "execution_count": 11,
   "metadata": {},
   "outputs": [],
   "source": [
    "train_data = load_data('./data/nlu.md')"
   ]
  },
  {
   "cell_type": "code",
   "execution_count": 12,
   "metadata": {},
   "outputs": [],
   "source": [
    "trainer = Trainer(config.load('config_spacy.yaml'))"
   ]
  },
  {
   "cell_type": "code",
   "execution_count": 13,
   "metadata": {
    "scrolled": true
   },
   "outputs": [
    {
     "name": "stderr",
     "output_type": "stream",
     "text": [
      "/usr/local/lib/python3.7/site-packages/rasa_nlu/training_data/training_data.py:176: UserWarning: Intent 'security_request' has only 1 training examples! Minimum is 2, training may fail.\n",
      "  self.MIN_EXAMPLES_PER_INTENT))\n",
      "/usr/local/lib/python3.7/site-packages/rasa_nlu/training_data/training_data.py:176: UserWarning: Intent 'compliment' has only 1 training examples! Minimum is 2, training may fail.\n",
      "  self.MIN_EXAMPLES_PER_INTENT))\n"
     ]
    },
    {
     "name": "stdout",
     "output_type": "stream",
     "text": [
      "Fitting 2 folds for each of 6 candidates, totalling 12 fits\n"
     ]
    },
    {
     "name": "stderr",
     "output_type": "stream",
     "text": [
      "/usr/local/lib/python3.7/site-packages/sklearn/model_selection/_split.py:667: UserWarning: The least populated class in y has only 1 members, which is less than n_splits=2.\n",
      "  % (min_groups, self.n_splits)), UserWarning)\n",
      "[Parallel(n_jobs=1)]: Using backend SequentialBackend with 1 concurrent workers.\n",
      "[Parallel(n_jobs=1)]: Done  12 out of  12 | elapsed:    0.1s finished\n"
     ]
    },
    {
     "data": {
      "text/plain": [
       "<rasa_nlu.model.Interpreter at 0x10b365b50>"
      ]
     },
     "execution_count": 13,
     "metadata": {},
     "output_type": "execute_result"
    }
   ],
   "source": [
    "# trainer.train(train_data)"
   ]
  },
  {
   "cell_type": "code",
   "execution_count": 14,
   "metadata": {},
   "outputs": [],
   "source": [
    "model_directory = trainer.persist('./projects/')"
   ]
  },
  {
   "cell_type": "code",
   "execution_count": 15,
   "metadata": {},
   "outputs": [],
   "source": [
    "import spacy\n",
    "nlp = spacy.load('en')"
   ]
  },
  {
   "cell_type": "code",
   "execution_count": 22,
   "metadata": {},
   "outputs": [],
   "source": [
    "json_reviews_by_sent = load('../json_review_dataframe_by_sent')\n",
    "informative_df = json_reviews_by_sent[(json_reviews_by_sent['classification'] == 'informative')]\n",
    "interpreter = Interpreter.load(model_directory)"
   ]
  },
  {
   "cell_type": "code",
   "execution_count": 183,
   "metadata": {},
   "outputs": [],
   "source": [
    "intentions = dict()\n",
    "for i in range(1000):\n",
    "    try:\n",
    "        classification = interpreter.parse(text=informative_df['review_body'][i])\n",
    "        intent = classification['intent']['name']\n",
    "        if intent not in intentions:\n",
    "            intentions[intent] = []\n",
    "        intentions[intent].append(classification['text'])\n",
    "    except KeyError:\n",
    "        pass"
   ]
  },
  {
   "cell_type": "code",
   "execution_count": 213,
   "metadata": {},
   "outputs": [
    {
     "data": {
      "text/plain": [
       "['intentions']"
      ]
     },
     "execution_count": 213,
     "metadata": {},
     "output_type": "execute_result"
    }
   ],
   "source": [
    "intentions_raw_text = dict()\n",
    "for i, v in intentions.items():\n",
    "    intentions_raw_text[i] = ' '.join(v)\n",
    "dump(intentions_raw_text,'intentions_raw_text', compress=True)\n",
    "dump(intentions, 'intentions', compress=True)"
   ]
  },
  {
   "cell_type": "code",
   "execution_count": 192,
   "metadata": {},
   "outputs": [],
   "source": [
    "keys = list(intentions.keys())\n",
    "processed_text = intentions_raw_text[keys[0]]"
   ]
  },
  {
   "cell_type": "code",
   "execution_count": 193,
   "metadata": {},
   "outputs": [
    {
     "name": "stdout",
     "output_type": "stream",
     "text": [
      "nb sequences: 11576\n"
     ]
    }
   ],
   "source": [
    "# cut the text in semi-redundant sequences of maxlen characters\n",
    "maxlen = 40\n",
    "step = 3\n",
    "sentences = []\n",
    "next_chars = []\n",
    "for i in range(0, len(processed_text) - maxlen, step):\n",
    "    sentences.append(processed_text[i: i + maxlen])\n",
    "    next_chars.append(processed_text[i + maxlen])\n",
    "print('nb sequences:', len(sentences))"
   ]
  },
  {
   "cell_type": "code",
   "execution_count": 6,
   "metadata": {},
   "outputs": [],
   "source": [
    "keys = list(intentions.keys())\n",
    "intentions_raw_text = load('intentions_raw_text')\n",
    "intentions = load('intentions')\n",
    "from collections import Counter\n",
    "def get_vocab(lst):\n",
    "    vocabcount = Counter(w for txt in lst for w in txt.split())\n",
    "    vocab = map(lambda x: x[0], sorted(vocabcount.items(), key=lambda x: -x[1]))\n",
    "    return vocab, vocabcount"
   ]
  },
  {
   "cell_type": "code",
   "execution_count": 8,
   "metadata": {},
   "outputs": [],
   "source": [
    "v, vocab_ = get_vocab(intentions_raw_text[keys[0]])"
   ]
  },
  {
   "cell_type": "markdown",
   "metadata": {},
   "source": [
    "# SUMMARIZATION COMPONENT "
   ]
  },
  {
   "cell_type": "code",
   "execution_count": 202,
   "metadata": {},
   "outputs": [],
   "source": [
    "from tensorflow.keras.callbacks import LambdaCallback\n",
    "from tensorflow.keras.models import Sequential\n",
    "from tensorflow.keras.layers import Dense\n",
    "from tensorflow.keras.layers import LSTM\n",
    "from tensorflow.keras.optimizers import RMSprop\n",
    "from tensorflow.keras.utils import get_file\n",
    "import numpy as np\n",
    "import random\n",
    "import sys\n",
    "import io\n",
    "import requests\n",
    "import re"
   ]
  },
  {
   "cell_type": "code",
   "execution_count": 203,
   "metadata": {},
   "outputs": [
    {
     "name": "stdout",
     "output_type": "stream",
     "text": [
      "corpus length: 34767\n",
      "total chars: 80\n"
     ]
    }
   ],
   "source": [
    "print('corpus length:', len(processed_text))\n",
    "chars = sorted(list(set(processed_text)))\n",
    "print('total chars:', len(chars))\n",
    "char_indices = dict((c, i) for i, c in enumerate(chars))\n",
    "indices_char = dict((i, c) for i, c in enumerate(chars))"
   ]
  },
  {
   "cell_type": "code",
   "execution_count": 204,
   "metadata": {},
   "outputs": [
    {
     "name": "stdout",
     "output_type": "stream",
     "text": [
      "Vectorization...\n"
     ]
    }
   ],
   "source": [
    "print('Vectorization...')\n",
    "x = np.zeros((len(sentences), maxlen, len(chars)), dtype=np.bool)\n",
    "y = np.zeros((len(sentences), len(chars)), dtype=np.bool)\n",
    "for i, sentence in enumerate(sentences):\n",
    "    for t, char in enumerate(sentence):\n",
    "        x[i, t, char_indices[char]] = 1\n",
    "    y[i, char_indices[next_chars[i]]] = 1"
   ]
  },
  {
   "cell_type": "code",
   "execution_count": 205,
   "metadata": {},
   "outputs": [
    {
     "data": {
      "text/plain": [
       "(11576, 40, 80)"
      ]
     },
     "execution_count": 205,
     "metadata": {},
     "output_type": "execute_result"
    }
   ],
   "source": [
    "x.shape"
   ]
  },
  {
   "cell_type": "code",
   "execution_count": 206,
   "metadata": {},
   "outputs": [
    {
     "data": {
      "text/plain": [
       "(11576, 80)"
      ]
     },
     "execution_count": 206,
     "metadata": {},
     "output_type": "execute_result"
    }
   ],
   "source": [
    "y.shape"
   ]
  },
  {
   "cell_type": "code",
   "execution_count": 207,
   "metadata": {},
   "outputs": [
    {
     "name": "stdout",
     "output_type": "stream",
     "text": [
      "Build model...\n"
     ]
    }
   ],
   "source": [
    "# build the model: a single LSTM\n",
    "print('Build model...')\n",
    "model = Sequential()\n",
    "model.add(LSTM(128, input_shape=(maxlen, len(chars))))\n",
    "model.add(Dense(len(chars), activation='softmax'))\n",
    "\n",
    "optimizer = RMSprop(lr=0.01)\n",
    "model.compile(loss='categorical_crossentropy', optimizer=optimizer)"
   ]
  },
  {
   "cell_type": "code",
   "execution_count": 208,
   "metadata": {},
   "outputs": [
    {
     "name": "stdout",
     "output_type": "stream",
     "text": [
      "Model: \"sequential\"\n",
      "_________________________________________________________________\n",
      "Layer (type)                 Output Shape              Param #   \n",
      "=================================================================\n",
      "lstm (LSTM)                  (None, 128)               107008    \n",
      "_________________________________________________________________\n",
      "dense (Dense)                (None, 80)                10320     \n",
      "=================================================================\n",
      "Total params: 117,328\n",
      "Trainable params: 117,328\n",
      "Non-trainable params: 0\n",
      "_________________________________________________________________\n"
     ]
    }
   ],
   "source": [
    "model.summary()"
   ]
  },
  {
   "cell_type": "code",
   "execution_count": 209,
   "metadata": {},
   "outputs": [],
   "source": [
    "def sample(preds, temperature=1.0):\n",
    "    # helper function to sample an index from a probability array\n",
    "    preds = np.asarray(preds).astype('float64')\n",
    "    preds = np.log(preds) / temperature\n",
    "    exp_preds = np.exp(preds)\n",
    "    preds = exp_preds / np.sum(exp_preds)\n",
    "    probas = np.random.multinomial(1, preds, 1)\n",
    "    return np.argmax(probas)"
   ]
  },
  {
   "cell_type": "code",
   "execution_count": 210,
   "metadata": {},
   "outputs": [],
   "source": [
    "def on_epoch_end(epoch, _):\n",
    "    # Function invoked at end of each epoch. Prints generated text.\n",
    "    print(\"****************************************************************************\")\n",
    "    print('----- Generating text after Epoch: %d' % epoch)\n",
    "\n",
    "    start_index = random.randint(0, len(processed_text) - maxlen - 1)\n",
    "    for temperature in [0.2, 0.5, 1.0, 1.2]:\n",
    "        print('----- temperature:', temperature)\n",
    "\n",
    "        generated = ''\n",
    "        sentence = processed_text[start_index: start_index + maxlen]\n",
    "        generated += sentence\n",
    "        print('----- Generating with seed: \"' + sentence + '\"')\n",
    "        sys.stdout.write(generated)\n",
    "\n",
    "        for i in range(400):\n",
    "            x_pred = np.zeros((1, maxlen, len(chars)))\n",
    "            for t, char in enumerate(sentence):\n",
    "                x_pred[0, t, char_indices[char]] = 1.\n",
    "\n",
    "            preds = model.predict(x_pred, verbose=0)[0]\n",
    "            next_index = sample(preds, temperature)\n",
    "            next_char = indices_char[next_index]\n",
    "\n",
    "            generated += next_char\n",
    "            sentence = sentence[1:] + next_char\n",
    "\n",
    "            sys.stdout.write(next_char)\n",
    "            sys.stdout.flush()\n",
    "        print()"
   ]
  },
  {
   "cell_type": "code",
   "execution_count": 211,
   "metadata": {},
   "outputs": [
    {
     "name": "stdout",
     "output_type": "stream",
     "text": [
      "Train on 11576 samples\n",
      "Epoch 1/60\n",
      "11520/11576 [============================>.] - ETA: 0s - loss: 2.8557****************************************************************************\n",
      "----- Generating text after Epoch: 0\n",
      "----- temperature: 0.2\n",
      "----- Generating with seed: \"stead of finding an external app to so s\"\n",
      "stead of finding an external app to so sore the the the the the the the tho the the the pothe the the the pong the the the the the the the the the the the the the the tho the the the the the the the tho the the the the the the the tho the the the the the the the the the the the the the the the bothe the the the the the tho the the the tho lo the the the who pong ooplo pong the the the the the the pothe the the the some the the the the t\n",
      "----- temperature: 0.5\n",
      "----- Generating with seed: \"stead of finding an external app to so s\"\n",
      "stead of finding an external app to so soree toccapp hond tot bothe soter the lopg boont of jof the blithe at the the long jo long ind ant alld oot oule ood the app tho she loce the the care ionithe thot ther the ing tho uome pimem it some pole ap ate vh me bong, toctor retoollthe iove the bos the the it arcons the song the ghet thing the thow llcthere dome long ifothe thore bothe she phene the lome thos tos theme the the phing apl hire\n",
      "----- temperature: 1.0\n",
      "----- Generating with seed: \"stead of finding an external app to so s\"\n",
      "stead of finding an external app to so secpfithoug ilicg ers no weg 2ingg.sthithacpds lhlccop dhlx.onotomej copg itg, Soos ceplpThathltonendv-iko wostg thont atho'ive thing chote ihapzpering oreitd ph on Ieor thenithae thoses ion ghome ficlcseosd ohem losan becono thares euupyaiisoy ong aonf io1 3ffpkne t och jofyoyg'plk lhhe cange oordirs aglyopthe potiensolhtothon, tuEe tho itommcong goppeoshing0couf. Iomethrveov\"kotiletholg Tfmoom'de\n",
      "----- temperature: 1.2\n",
      "----- Generating with seed: \"stead of finding an external app to so s\"\n",
      "stead of finding an external app to so sotho)'iYsnd'oglsnegrhirevirs, ;lo hTomg padgadgrio I lom. ios FittwmremsmadhaFo drand Sone it heris3 jhs 2ht bedithKatny I fochhollifdgitd zhp thigeNalgingm li he*irpo wonon thovideopp1edhetithoumbhaplerithcaospVos. Cpthot dhe deot Yodithm ul bos0 atf sr..reond oujthenl.r>onh ogdit Rhan thangthe fhoPggkutAn wis muiak oon'sEo(. koumndaresinggcuppoRumiond afs onnD fon'tteoWjWpotfotez s tisksong vooM\n",
      "11576/11576 [==============================] - 81s 7ms/sample - loss: 2.8542\n",
      "Epoch 2/60\n",
      "11520/11576 [============================>.] - ETA: 0s - loss: 2.3115****************************************************************************\n",
      "----- Generating text after Epoch: 1\n",
      "----- temperature: 0.2\n",
      "----- Generating with seed: \"it shows a 200km radius even though you'\"\n",
      "it shows a 200km radius even though you't are the a pion a pion to the sate the a p app a pion to the to to the a p app the a pre to to to the a pre the a pion to to to the a p an to the to the to the a pion to the are a p an to to to the song the a pion to the the pore to the to the the a pion to to to the a pion to to to to to to a pion to the to the in the a p app and are to to the to to the a p app a pion to the are to the are to to\n",
      "----- temperature: 0.5\n",
      "----- Generating with seed: \"it shows a 200km radius even though you'\"\n",
      "it shows a 200km radius even though you't fon the to the the ane it the srat sore pont when ara bre a powe is to sall pree to a pron to pren some are are is a pisn to the sithe a pian are the sat able to sout to a padis sout to to  ar it to site ar it the tore the a to it the a lowe sove sore the are ar a prere but sate to to the my I over my the a cating ast are ade on to to cou sate the sente in to sade the salle to are the the app on\n",
      "----- temperature: 1.0\n",
      "----- Generating with seed: \"it shows a 200km radius even though you'\"\n",
      "it shows a 200km radius even though you't I sorele ..lle bitN my thif it in to caut Ait bYe the pags Wir ausy ano it sitis ou are storeng phem 5omes I domly upegifcist someit is. Ite it'e ppage chatiagt outs apt bat the corbit lioce sallitiag my aup it sithmant, tine mes owit'le ade therDaccop andane, haechisting, ane, ard ios I wothi abeen, so wovk arapp, bot apl I acl it becape a to cavingalisire togrrades to ssede, tha bat, the opa. \n",
      "----- temperature: 1.2\n",
      "----- Generating with seed: \"it shows a 200km radius even though you'\"\n",
      "it shows a 200km radius even though you'm a theirre sive 'e to pliderurein somM. hofdod the I th semlive sore wheenqyo0 teptore acp evede itss tisere call pios s iu thap ithige sene tobi foyde pottretiin wrecaneattBr thinalkaut ash my arae bostly tha aup, Thee whote no treno 't wilonars whe toese ups pramp, ef0 I det dapppi isg alr rest  it I us oop ford, thiR to if ateliceadngemetesdaglt't's jAew wodecitorereraI tru. I4hise, ad in ave \n",
      "11576/11576 [==============================] - 76s 7ms/sample - loss: 2.3116\n",
      "Epoch 3/60\n",
      "11520/11576 [============================>.] - ETA: 0s - loss: 2.0504****************************************************************************\n",
      "----- Generating text after Epoch: 2\n",
      "----- temperature: 0.2\n",
      "----- Generating with seed: \"ing a video itll back out and refresh th\"\n",
      "ing a video itll back out and refresh the app and ar the and it and and and it the app and it the are the and it the app it the and it and it the app and and it the and and and or the app the pren the a posting are and it the app the and and it and and and it and it and and and it the app on the app the app it the a poste to it cont and it and of the are and and and it the app the app and it the app it the app and it the are the are the\n",
      "----- temperature: 0.5\n",
      "----- Generating with seed: \"ing a video itll back out and refresh th\"\n",
      "ing a video itll back out and refresh the of the app and it all just the app it thew blen it to ever it ther upe notification my a comleling ore of the hat are the apl at ster tha ly proble it the the are it the ther the app ating bet video it comsting are the and it deene prenes it of the apl the ast and it it I cont ald and io fret ster bet it shere the are and are dove it thit acout the age at and it of you cablece and it tre at my I\n",
      "----- temperature: 1.0\n",
      "----- Generating with seed: \"ing a video itll back out and refresh th\"\n",
      "ing a video itll back out and refresh the yeat it ceonls all if and or the wouver dutinging. I mest Eroig, m suster hach it nombur d er To thebr, thene it it chace pratgey yourt erl, buteomle yorere meving thaver yoihichtite si have ad an't it catfif , oven ar sheno it whons or app when ie to! ;rke that shay hase innd have  at notioh me when ariticothang I hover of theroy maset wathiche ort canet therined to matiou of Eot evad in shay t\n",
      "----- temperature: 1.2\n",
      "----- Generating with seed: \"ing a video itll back out and refresh th\"\n",
      "ing a video itll back out and refresh the whave it I hane are.. AW. memble ove all bedsraplew froaf jf ces verboti, out dion nos if aro doep insturerMs 20A foure noostelecmene5y't my blowIs. Iutting, audoteN yourcanm notin's cotly'ndanr as hes of Inu pven fr Theyre deed in ofstiis uveneant on sames of By notignthar ar. Ahver my olt okapfwincteadeYirecymDre. 2l, A. )all, ags shaver. lred chave then 't oTt then inns soond ill! a covenslen\n",
      "11576/11576 [==============================] - 66s 6ms/sample - loss: 2.0497\n",
      "Epoch 4/60\n",
      "11520/11576 [============================>.] - ETA: 0s - loss: 1.8604****************************************************************************\n",
      "----- Generating text after Epoch: 3\n",
      "----- temperature: 0.2\n",
      "----- Generating with seed: \"y pictures security not just locked prof\"\n",
      "y pictures security not just locked profification to recout to comment to app to app it all comment to the cat of the app to app and it all and the secout the cat of the sace to upenting to of the cat of the cat of the cat the cat of the cathon to con't the cater to app and a dew it to to contto to sere to app and the cater to app and of the can't all and of the app and and it a con't sometilication to con't the can't to come the cat of\n",
      "----- temperature: 0.5\n",
      "----- Generating with seed: \"y pictures security not just locked prof\"\n",
      "y pictures security not just locked profile to se it and to app and of the sack lost of to no but so I seceate all of a counte , apd it the cat'o to ally it have a post to app to be to when I onter to opte to say it with an ont of the app and and of and of the calle says and with the sabet mabet to app to dect the cat on to it anding of the secebose to app sometion to comlent douss a courte to can't upcount a courent sore a bect an or a\n",
      "----- temperature: 1.0\n",
      "----- Generating with seed: \"y pictures security not just locked prof\"\n",
      "y pictures security not just locked proflers or sosgere lot to raytTt ascill friond micebles the up ation how to 2pling becautook to post I oe to nange bemont one of bectter pive wall you sour ustor of itally ho thot the atapce on to hacle no , upsation it days toure to rell pcct ap now of ter been toupr to in tie that notife, of to han't wesctecting to hhong that of wille seys mut hoa pmatlon cally fict I res. Ipl the catlo sastald the\n",
      "----- temperature: 1.2\n",
      "----- Generating with seed: \"y pictures security not just locked prof\"\n",
      "y pictures security not just locked profile nitaust off that noseretionnd nowifalk likes tist to kostmmy but on ty or undobeaptubesalld chind to co moubling pont abgook r2haare, in then't pect condtea thaabe nerely apl fwresthing ulco are ! sthe bectOmy bloadlroth a doully that itadd evit!se \"domnpipn a soof there pestion of the app, to repptilieizitiviout my a oetost. dut, mese agface a notreagsteitedsnmridito1l but sly sapcle to fout \n",
      "11576/11576 [==============================] - 61s 5ms/sample - loss: 1.8587\n",
      "Epoch 5/60\n",
      "11520/11576 [============================>.] - ETA: 0s - loss: 1.6947****************************************************************************\n",
      "----- Generating text after Epoch: 4\n",
      "----- temperature: 0.2\n",
      "----- Generating with seed: \" just wont load any posts at all. And th\"\n",
      " just wont load any posts at all. And the some to comment to can't some to comment and if to go mack in the app in to go camer and is to courent and if it the some the same the app to comments and offing and in to comments and in tok comments and to go to go to go to go butting and in to some butting and the app it to go back it to go butting and offing and offing somes instillous and to comments and in tok and in to comments and offing\n",
      "----- temperature: 0.5\n",
      "----- Generating with seed: \" just wont load any posts at all. And th\"\n",
      " just wont load any posts at all. And the same, to thing is the cappen to peatieg and oring to sore prose ald can't some plays it ald butting and ofing and in tike it go connt the some times to go bick to my fixstould cantings and to counter I comments is and instidge and it the app. I dat in tike to comment and in a buttis app and posns and if tok the of to sore and in a to go mors to some and if to coven to ciment somes in the same th\n",
      "----- temperature: 1.0\n",
      "----- Generating with seed: \" just wont load any posts at all. And th\"\n",
      " just wont load any posts at all. And thenusce't constadting whicc are insurinso't toemmy orfond saysisesaoch't seeds a selithing I rore't sionidit.sSipluficatiots accont relicse. have so ingouns fourjutrarck tingsits hat the app it I've commens alloncey mes butting every estreains tike is aidstelam sames evtr,es barens aceuact There's lioking time bitk having thg hive thensFi's sornemsablooes ontro;d enptroadly app.,'stoply. Woudd lors\n",
      "----- temperature: 1.2\n",
      "----- Generating with seed: \" just wont load any posts at all. And th\"\n",
      " just wont load any posts at all. And thet'sapajfing, wing now readso of ofe7 wankeolladbins afobhe to my off wave yoy covenss ournitalyowis overxdomesowletiwrobly pro,ingllyoudbingll mo.tions, , read a inser yournderevingtaobere-inijlsharend birtiens itsur ipes eoartionnty willhy a Nn the zditesrTom eakiho aodionting andortecturKwhachina An I artisseC commout tham open to gecly diok vorisaus of ofermlonged appi co1ufrions,w!arkd a srao\n",
      "11576/11576 [==============================] - 60s 5ms/sample - loss: 1.6956\n",
      "Epoch 6/60\n",
      "11520/11576 [============================>.] - ETA: 0s - loss: 1.5426****************************************************************************\n",
      "----- Generating text after Epoch: 5\n",
      "----- temperature: 0.2\n",
      "----- Generating with seed: \"hing is gone and removed to start all ov\"\n",
      "hing is gone and removed to start all over poster the app it to can on a people to can the app and on a post and have or the app to compent the rearly the app that see the app to can the app on the app it there a play it wore not see and on a peoblem up the lick it would with some and have or a deers that the app that see the sime the app the app to compent the carer that see problems and have it won't see the seare my are poster and ha\n",
      "----- temperature: 0.5\n",
      "----- Generating with seed: \"hing is gone and removed to start all ov\"\n",
      "hing is gone and removed to start all over people seay and over you can't pesting that sered it app to can the app or the pacture or sime somileatically to can when I cent me viceed on my friends a video even it all same a just this app and it some not fict some it still notifications a derst work the app on a problem of I app it seoply problem. I can not it as of or stien to it just on your problem und and notifications and posted comm\n",
      "----- temperature: 1.0\n",
      "----- Generating with seed: \"hing is gone and removed to start all ov\"\n",
      "hing is gone and removed to start all over. (sing and for aster, weore whith fo in, it ther ay that noting sers jur ut wheching op nicn on the peiticutionsulileust the peapled undse leadking pret that conttont silistous thally that commer pactures, werk my news it stmo hays my and ou s apctist ups. All pice it des not piccure live tha liviow it , somes wore the ficture mackions nore it adngiow it sped I doully post. bestor nowiot becaub\n",
      "----- temperature: 1.2\n",
      "----- Generating with seed: \"hing is gone and removed to start all ov\"\n",
      "hing is gone and removed to start all over doele I ag ap mige to  srappicceally fremp. Gebbler notificaticus of sivee somikicale, with werk ghe acw ince meels ..id coselnt scaos une ond Ghem this litiow wdst, in nickaakavin is  or stist id arpy tr porssome elly it conenlly, weckee go any over licklame tiy it cavend veryrether iccouy ticture wor deisticided it appy  frcehes evensally oplyreably thiiching of the uperudise \"uifsiag apt can\n",
      "11576/11576 [==============================] - 62s 5ms/sample - loss: 1.5421\n",
      "Epoch 7/60\n",
      "11520/11576 [============================>.] - ETA: 0s - loss: 1.3970****************************************************************************\n",
      "----- Generating text after Epoch: 6\n",
      "----- temperature: 0.2\n",
      "----- Generating with seed: \" there been problems loading the page. S\"\n",
      " there been problems loading the page. Somment the caption a problems and it they conntall a ppat the back that if I can't see the app an of a divi a play and of you come the camer and an of the same the same the captiog a post and and a post and it there a post and it when I cont a be a posts fixet and and it whece in the same the caple a post and it when I cont a be a posts ad a post and it there't all with the app an of the app an of\n",
      "----- temperature: 0.5\n",
      "----- Generating with seed: \" there been problems loading the page. S\"\n",
      " there been problems loading the page. Shat abour it ther phone. The app it the sack and an of a becous of a posts ad sometions of I can notifications. I say the that commerte the pagt the same but of the app it the canter that the camer and have it the same this app and it they can the back that I can't a ppone but on the app. The forse ag it I wan't app it wish the top play and it conntrout of the backge the day the camern't app its a\n",
      "----- temperature: 1.0\n",
      "----- Generating with seed: \" there been problems loading the page. S\"\n"
     ]
    },
    {
     "name": "stdout",
     "output_type": "stream",
     "text": [
      " there been problems loading the page. She pixes te bro gos an oFtre haviow ah of of phople ag, seod mus's im No it winc a videos al your to on B0 nowhar bl ng a disk thw 2s ...A! My whell the bo:w. ald it showsh the app fult all but fon ca look burate the app losts, is but my uctions. Soakt Ever bar star a tol ad the back brom of As'm grout are sien sabfe say. OIm han if I can of in a cam of everytha sopalat of the make ore, a comment \n",
      "----- temperature: 1.2\n",
      "----- Generating with seed: \" there been problems loading the page. S\"\n",
      " there been problems loading the page. Somm of tre a apsane bur shaps problem. The euting to froad but thes gee have ifbe to lakk, it someo the triep Ihs wishoy wheck I notly . The labker No 3s sange uppiIs, clock everyy, meseans and youlrrect ookver tup go donuven I sayd comnonl, app. you's upsage I ry I han on home posssaufiwallabll, thorewapl.!...!FWs's been your vidioso,ebut of no Snopbacicnotion videts In the cepe a picturos. Ofe g\n",
      "11576/11576 [==============================] - 94s 8ms/sample - loss: 1.3985\n",
      "Epoch 8/60\n",
      "11520/11576 [============================>.] - ETA: 0s - loss: 1.2506****************************************************************************\n",
      "----- Generating text after Epoch: 7\n",
      "----- temperature: 0.2\n",
      "----- Generating with seed: \"een, profile picture wont upload, messag\"\n",
      "een, profile picture wont upload, message, it stor them and on a probeems and it won't lead the nop and the app and the top back to a page on a proberover leapp. I says a problems and people the app and it they deest the app and on a problems and it there to app and the semple and one page the screen and not in the same the app and it wan't seredt new phone and them and the app and on a page the semple the app and on a problems and it w\n",
      "----- temperature: 0.5\n",
      "----- Generating with seed: \"een, profile picture wont upload, messag\"\n",
      "een, profile picture wont upload, messages and it souls friends ant respons and then a dereding a be a post fored and on a dore deed a could of a problems and it no loat werk a peste a new phone them app and ont one stor thing I stinl were to a problems it so tay them a comments them app to a notifications and ond phone it not in't stor the some one notifications and fint to a ported like a sereen every, load and a peoblems and it read \n",
      "----- temperature: 1.0\n",
      "----- Generating with seed: \"een, profile picture wont upload, messag\"\n",
      "een, profile picture wont upload, message, somean tho cnuttinghat it yoush notring vedy and. in to staat me that noplebe -ader video some tor meople seads mes a ved have seeI very the tometing, can my nometeco share a new betins pogss, art butt upcausar you thinge, and onf notificalions. They stor ar that  very a very, ;hofing e unfereoalry binges if I ag. It's still really 4 fon to playC lerberext, op than e a have ond pages and deed t\n",
      "----- temperature: 1.2\n",
      "----- Generating with seed: \"een, profile picture wont upload, messag\"\n",
      "een, profile picture wont upload, message  then fint commant to ne. I'm wan at, got it soun's photees becausis'lly, that dannow, is keay aup if but, ale, a did of is is won't, add times of my page and newsing the tometer. The aut is just worl then weme my breks it won't ie a finn ae netmrebar and even, tiunge mare notay of by nry theng when theings be one, havi is will can an rellymions fuct reed 2 dinnte\" they meysagel. They is pores y\n",
      "11576/11576 [==============================] - 88s 8ms/sample - loss: 1.2515\n",
      "Epoch 9/60\n",
      "11520/11576 [============================>.] - ETA: 0s - loss: 1.1198****************************************************************************\n",
      "----- Generating text after Epoch: 8\n",
      "----- temperature: 0.2\n",
      "----- Generating with seed: \", details at time allowance to the accou\"\n",
      ", details at time allowance to the account sometimes it to sound from to playlist, go to can't a problems go to upe to app and it ald with to a video the some I can't seed the list a sonn mace to so innotications and it would be a prote so I can to won't seed the app. I can't seed the app......i's and won't seed to uper, it sound from my somes to a dound and to upery, with to a becous and no load age notications and notifications. I can\n",
      "----- temperature: 0.5\n",
      "----- Generating with seed: \", details at time allowance to the accou\"\n",
      ", details at time allowance to the account seed videos to my prate same to a besion and the top post. I says on a prover the commer.. I wan't sound have a prate a proted on a posel. I can't sees my camplet someticesorns and poster load so I can't notifications. I can't sees the app, is using to make on top to a video it so los and deest notification by would me showing conntrous and won't allowilly it won't seed on notifications and in \n",
      "----- temperature: 1.0\n",
      "----- Generating with seed: \", details at time allowance to the accou\"\n",
      ", details at time allowance to the account on ponted it no loud are sudicallad any oniny phat. The ag alborn comes. Woy, screens, it won't noticave ordat viddo. over tho commen side for. there no on ther stmectore I had notifications. No ind oved in is wont load age just post. I says my still will notificationsly and on dous and 5o bo noble my Over of you can't gelling liup.....I''t dool dors and make on of optoat. Its ouks on by and co\n",
      "----- temperature: 1.2\n",
      "----- Generating with seed: \", details at time allowance to the accou\"\n",
      ", details at time allowance to the account. I rasting and nour, I'm no lobke or or s, videos tes save iteraxe, to go poges reqess on ty beco. Imy! I amath to it have 0 resodes fioting notiface yiu wand becovides, they. I've roficaus. When I've ienstaugfiEsiage in a comnon see, ared, is ace to ack is cameas notifaleover. The onen vaie wome and no mave lohe and on a dowr losd cam ofes pagein, me misther hoeich vided it ssopen )over,d,. Ai\n",
      "11576/11576 [==============================] - 79s 7ms/sample - loss: 1.1191\n",
      "Epoch 10/60\n",
      "11520/11576 [============================>.] - ETA: 0s - loss: 1.0053****************************************************************************\n",
      "----- Generating text after Epoch: 9\n",
      "----- temperature: 0.2\n",
      "----- Generating with seed: \"ed songs until you MAY get to the song y\"\n",
      "ed songs until you MAY get to the song you can't can notlere to click to still postures and it there's new upcaull, and posted the app it there's newere to upeated on the app it to say add to click to start dors anymore. When I can't can notlere the same the list us the app it the app it there and then seern't seers me update, it won't lead not see pages. friends and play seed and it there's new people the app I can't seen phone a probl\n",
      "----- temperature: 0.5\n",
      "----- Generating with seed: \"ed songs until you MAY get to the song y\"\n",
      "ed songs until you MAY get to the song youn't resting and nime bickest the list dellen a on a piceure not can or the pectures. there's newere the pacture friends and people the app is the parted to my problems....eesens my the only perfore friends and it wouldn't like a seve a prone showe a video, it's but on a problem notifect so I a notifications. Every time that dorrs and on the on the app to go in macle the parted to upe lick on the\n",
      "----- temperature: 1.0\n",
      "----- Generating with seed: \"ed songs until you MAY get to the song y\"\n",
      "ed songs until you MAY get to the song yon warct've prop severmincers and if i couldn my becaus of mistroud mi share are somles prit stired lested they me problemsome, it's nothery any erade is on a bere scares will pectures add and intt resimes are nexeding inst ip tom for sturd likee on the app taken, and itten to care, scowime videow I defsems are spyaus the upday the bame a notifector anything. Ever then they Ghey elack go cam the a\n",
      "----- temperature: 1.2\n",
      "----- Generating with seed: \"ed songs until you MAY get to the song y\"\n",
      "ed songs until you MAY get to the song yoTr!.!!!!tive wheI new cever te the top anypeap of the cay whene  Br ferd ons it...!i-sisWowvery ent wonl. Ies like people a mesuad have liceod the peit ord on thlichourt tho selpags for nothing, and ifhing has mestare No laie that dascved preclets. I onovery and beneve dievpe it's mi\"fures. It waes, new, treida of the cabll crealy the witly have save it, an  ormedsare, bwon I pore. The mapped eev\n",
      "11576/11576 [==============================] - 85s 7ms/sample - loss: 1.0067\n",
      "Epoch 11/60\n",
      "11520/11576 [============================>.] - ETA: 0s - loss: 0.8972****************************************************************************\n",
      "----- Generating text after Epoch: 10\n",
      "----- temperature: 0.2\n",
      "----- Generating with seed: \"n has one. There is also an occasional b\"\n",
      "n has one. There is also an occasional becouse on app to cant a problem und it to make a secord that the same it just would dask them and then they delet and it there and then they delet and it there and every time I had so my pages them and have is that the same the peaple that the app an the pate showing people that the app and have is a deest unsoad so macuse theis's and then to uplote should be a becous of them and wenget se theists\n",
      "----- temperature: 0.5\n",
      "----- Generating with seed: \"n has one. There is also an occasional b\"\n",
      "n has one. There is also an occasional becoust and phone showe and pestos and problems a sered, though you't atry the camer it tour stort messages to upe, to still with the list first mack onty play ins and friends on apperally it wouldnd someone oriestis cantros me shows any oftently shows and it ald wime posts fime it to make a neweve it would your uping seesn't. I can't appon to pately have borned to upeote-. Ats I says that the pact\n",
      "----- temperature: 1.0\n",
      "----- Generating with seed: \"n has one. There is also an occasional b\"\n",
      "n has one. There is also an occasional becouse sponed whenev it agdicleatimpso)la\"k. Ehen I open bit in the app. The upday to clistot's a prole an aptoort viewing it just had oplabicas and every time ofising like it their and intome shoply the screens but you taket 1000 I date should backgion is gient oo nerver an authergly plingule it there't wellyos that the sading the lict thates and option my fistill it lout my deletele that noulht \n",
      "----- temperature: 1.2\n",
      "----- Generating with seed: \"n has one. There is also an occasional b\"\n",
      "n has one. There is also an occasional becound like btzoking. They,'t friends me oring will weele on an a howifns notrout completo that then go prat tom offe showing petersaveo it your. I nit openia abve soont no loaden rewstoply the to load ONhed intts aubion im, Nomionice vidsol clos:ly dand j0 thed live my shove protimes Peoplly wouldnd re)ving snaptin 10mmifugss 2veVmy. Enoplishmlly phoy have not. ondrad fUom withom tom uptie ent I \n",
      "11576/11576 [==============================] - 71s 6ms/sample - loss: 0.8979\n",
      "Epoch 12/60\n",
      "11520/11576 [============================>.] - ETA: 0s - loss: 0.8180****************************************************************************\n",
      "----- Generating text after Epoch: 11\n",
      "----- temperature: 0.2\n",
      "----- Generating with seed: \"phone I have I can't use certain effects\"\n",
      "phone I have I can't use certain effects and it there't see and in thered and it there't see and in thern't seed in ore it all chat it can't app to completely and it there't see and in thern't seed becting and and only playlist cat on a prate songene, how message. The only please app to compact to go protion by a problems and it a completely reclived on a pecture I have on and fore a prothing problems autically and not inst and and only\n",
      "----- temperature: 0.5\n",
      "----- Generating with seed: \"phone I have I can't use certain effects\"\n",
      "phone I have I can't use certain effects on a post friends and it a to make video. I can't app to compact to usd pre bectuse I have is a go to can receividion bur and it all micapp, to appicleas and a prould ligke a searce if you have a new perts out on a pick and it all comments and is a goncernt. I wan't see sterpled to relice the back. I the same oner anytime of is a problems and it all wing it on a pice, it so Ton offically or oner \n",
      "----- temperature: 1.0\n",
      "----- Generating with seed: \"phone I have I can't use certain effects\"\n",
      "phone I have I can't use certain effects go thate's fo edectinalition bern cam rending ad have on acting ficstarn't your is a for wosn I uscare on a pack but start didnh I can't ie backes and id there's to upeated aiceunt. haying mest pein sole my anfopting will says murhithiplobecare come, smerically is gonters are deve it storst, but onty on a geop, so 1 sadf in the app... enclicl autions erout thealisays out if a dith seesn't meep fr\n",
      "----- temperature: 1.2\n",
      "----- Generating with seed: \"phone I have I can't use certain effects\"\n",
      "phone I have I can't use certain effects onhatically mulbiclianlyachoug and gvereDs counter breads, bat I Bw things some \"ued of it frnsts up adets's I despally in thers'll part ty atror wond noed bectes, app. To I can't an prabe that I can't notiun nithing of the somione and chackion sothoutce dediect oncauct oping. frem comernt me chatchasny ut and it's all upcaptimpsC\"Dex bered go go pro elly bace that it postinl comple to auter, dew\n",
      "11576/11576 [==============================] - 73s 6ms/sample - loss: 0.8186\n",
      "Epoch 13/60\n",
      "11520/11576 [============================>.] - ETA: 0s - loss: 0.7546****************************************************************************\n",
      "----- Generating text after Epoch: 12\n",
      "----- temperature: 0.2\n",
      "----- Generating with seed: \"g the same posts again and again for sev\"\n",
      "g the same posts again and again for severally dut the same phone showing a problems a secest shows a videos friends and phone shoull be and but onen for when I the stme the app backge the app backging the screen somet in the same the that the app albong the same bet my cally the with the bectuste page that the app of seeat mestages the with the app back instart with the app backging the same the app ble of stoply dasting but the backgi\n",
      "----- temperature: 0.5\n",
      "----- Generating with seed: \"g the same posts again and again for sev\"\n",
      "g the same posts again and again for severaled the this, I can ne not has with is a notications it't sees ween I can't a gone things. I can notifications it the camer go that notifications of severalle and phone notifications. I can't my ehone notifications. The agd the back? I can then the app on the app I won't seed the app elace that semp grese playlist, atcoll usare have it as adtowable worksn't my phone show and bectures. Aus I see\n",
      "----- temperature: 1.0\n",
      "----- Generating with seed: \"g the same posts again and again for sev\"\n",
      "g the same posts again and again for severall. The listh the dive the tissomeobot forse my fime video, it acceved that the sprt. muchEs of showisle't becnust losts should bettg the app becould on the face, that in call rat so /play whick I secust fram to stfill can't me picts! I fry playsi us I have morewing the to, nothing that the rectales and post....ik simnt the hame that the app at cly commentst can on a past for pases worhd be a \"\n",
      "----- temperature: 1.2\n",
      "----- Generating with seed: \"g the same posts again and again for sev\"\n",
      "g the same posts again and again for severelach this, fom upeacestio. I save not beh 1 pase starp star decsinge inntap....iEsings just kicsping the worlent with cleck it ther page fict worksn't. NoApwast the because I want will compact's with is a sometimes there'id loster my have a dow us and then the bactest tho call eot cere, your prite it just con't and thoughif anry medwage. I says tiple that the tome. Sncaol time and then w. kens \n",
      "11576/11576 [==============================] - 112s 10ms/sample - loss: 0.7553\n",
      "Epoch 14/60\n",
      "11520/11576 [============================>.] - ETA: 0s - loss: 0.6874****************************************************************************\n",
      "----- Generating text after Epoch: 13\n",
      "----- temperature: 0.2\n",
      "----- Generating with seed: \"s delivered to me an hour ago. Though na\"\n"
     ]
    },
    {
     "name": "stdout",
     "output_type": "stream",
     "text": [
      "s delivered to me an hour ago. Though nater to open for most paye the same the lay ut so I usay even is a posts is masning. I've read the pagks that is got it dods make that worke make my friends and it won't seed the app on to reed is a disler. I say to go to start corntry on app to comple on the same I'm with to click is that add with the becous the app on to my problem. I stolly have my playlist, attrag with to catcourd and it alboun\n",
      "----- temperature: 0.5\n",
      "----- Generating with seed: \"s delivered to me an hour ago. Though na\"\n",
      "s delivered to me an hour ago. Though nate"
     ]
    },
    {
     "ename": "KeyboardInterrupt",
     "evalue": "",
     "output_type": "error",
     "traceback": [
      "\u001b[0;31m---------------------------------------------------------------------------\u001b[0m",
      "\u001b[0;31mKeyboardInterrupt\u001b[0m                         Traceback (most recent call last)",
      "\u001b[0;32m<ipython-input-211-29d39d1d557e>\u001b[0m in \u001b[0;36m<module>\u001b[0;34m\u001b[0m\n\u001b[1;32m     11\u001b[0m           \u001b[0mbatch_size\u001b[0m\u001b[0;34m=\u001b[0m\u001b[0;36m128\u001b[0m\u001b[0;34m,\u001b[0m\u001b[0;34m\u001b[0m\u001b[0;34m\u001b[0m\u001b[0m\n\u001b[1;32m     12\u001b[0m           \u001b[0mepochs\u001b[0m\u001b[0;34m=\u001b[0m\u001b[0;36m60\u001b[0m\u001b[0;34m,\u001b[0m\u001b[0;34m\u001b[0m\u001b[0;34m\u001b[0m\u001b[0m\n\u001b[0;32m---> 13\u001b[0;31m           callbacks=[print_callback])\n\u001b[0m",
      "\u001b[0;32m/usr/local/lib/python3.7/site-packages/tensorflow_core/python/keras/engine/training.py\u001b[0m in \u001b[0;36mfit\u001b[0;34m(self, x, y, batch_size, epochs, verbose, callbacks, validation_split, validation_data, shuffle, class_weight, sample_weight, initial_epoch, steps_per_epoch, validation_steps, validation_freq, max_queue_size, workers, use_multiprocessing, **kwargs)\u001b[0m\n\u001b[1;32m    817\u001b[0m         \u001b[0mmax_queue_size\u001b[0m\u001b[0;34m=\u001b[0m\u001b[0mmax_queue_size\u001b[0m\u001b[0;34m,\u001b[0m\u001b[0;34m\u001b[0m\u001b[0;34m\u001b[0m\u001b[0m\n\u001b[1;32m    818\u001b[0m         \u001b[0mworkers\u001b[0m\u001b[0;34m=\u001b[0m\u001b[0mworkers\u001b[0m\u001b[0;34m,\u001b[0m\u001b[0;34m\u001b[0m\u001b[0;34m\u001b[0m\u001b[0m\n\u001b[0;32m--> 819\u001b[0;31m         use_multiprocessing=use_multiprocessing)\n\u001b[0m\u001b[1;32m    820\u001b[0m \u001b[0;34m\u001b[0m\u001b[0m\n\u001b[1;32m    821\u001b[0m   def evaluate(self,\n",
      "\u001b[0;32m/usr/local/lib/python3.7/site-packages/tensorflow_core/python/keras/engine/training_v2.py\u001b[0m in \u001b[0;36mfit\u001b[0;34m(self, model, x, y, batch_size, epochs, verbose, callbacks, validation_split, validation_data, shuffle, class_weight, sample_weight, initial_epoch, steps_per_epoch, validation_steps, validation_freq, max_queue_size, workers, use_multiprocessing, **kwargs)\u001b[0m\n\u001b[1;32m    395\u001b[0m                       total_epochs=1)\n\u001b[1;32m    396\u001b[0m                   cbks.make_logs(model, epoch_logs, eval_result, ModeKeys.TEST,\n\u001b[0;32m--> 397\u001b[0;31m                                  prefix='val_')\n\u001b[0m\u001b[1;32m    398\u001b[0m \u001b[0;34m\u001b[0m\u001b[0m\n\u001b[1;32m    399\u001b[0m     \u001b[0;32mreturn\u001b[0m \u001b[0mmodel\u001b[0m\u001b[0;34m.\u001b[0m\u001b[0mhistory\u001b[0m\u001b[0;34m\u001b[0m\u001b[0;34m\u001b[0m\u001b[0m\n",
      "\u001b[0;32m/usr/local/Cellar/python/3.7.6_1/Frameworks/Python.framework/Versions/3.7/lib/python3.7/contextlib.py\u001b[0m in \u001b[0;36m__exit__\u001b[0;34m(self, type, value, traceback)\u001b[0m\n\u001b[1;32m    117\u001b[0m         \u001b[0;32mif\u001b[0m \u001b[0mtype\u001b[0m \u001b[0;32mis\u001b[0m \u001b[0;32mNone\u001b[0m\u001b[0;34m:\u001b[0m\u001b[0;34m\u001b[0m\u001b[0;34m\u001b[0m\u001b[0m\n\u001b[1;32m    118\u001b[0m             \u001b[0;32mtry\u001b[0m\u001b[0;34m:\u001b[0m\u001b[0;34m\u001b[0m\u001b[0;34m\u001b[0m\u001b[0m\n\u001b[0;32m--> 119\u001b[0;31m                 \u001b[0mnext\u001b[0m\u001b[0;34m(\u001b[0m\u001b[0mself\u001b[0m\u001b[0;34m.\u001b[0m\u001b[0mgen\u001b[0m\u001b[0;34m)\u001b[0m\u001b[0;34m\u001b[0m\u001b[0;34m\u001b[0m\u001b[0m\n\u001b[0m\u001b[1;32m    120\u001b[0m             \u001b[0;32mexcept\u001b[0m \u001b[0mStopIteration\u001b[0m\u001b[0;34m:\u001b[0m\u001b[0;34m\u001b[0m\u001b[0;34m\u001b[0m\u001b[0m\n\u001b[1;32m    121\u001b[0m                 \u001b[0;32mreturn\u001b[0m \u001b[0;32mFalse\u001b[0m\u001b[0;34m\u001b[0m\u001b[0;34m\u001b[0m\u001b[0m\n",
      "\u001b[0;32m/usr/local/lib/python3.7/site-packages/tensorflow_core/python/keras/engine/training_v2.py\u001b[0m in \u001b[0;36mon_epoch\u001b[0;34m(self, epoch, mode)\u001b[0m\n\u001b[1;32m    769\u001b[0m       \u001b[0;32mif\u001b[0m \u001b[0mmode\u001b[0m \u001b[0;34m==\u001b[0m \u001b[0mModeKeys\u001b[0m\u001b[0;34m.\u001b[0m\u001b[0mTRAIN\u001b[0m\u001b[0;34m:\u001b[0m\u001b[0;34m\u001b[0m\u001b[0;34m\u001b[0m\u001b[0m\n\u001b[1;32m    770\u001b[0m         \u001b[0;31m# Epochs only apply to `fit`.\u001b[0m\u001b[0;34m\u001b[0m\u001b[0;34m\u001b[0m\u001b[0;34m\u001b[0m\u001b[0m\n\u001b[0;32m--> 771\u001b[0;31m         \u001b[0mself\u001b[0m\u001b[0;34m.\u001b[0m\u001b[0mcallbacks\u001b[0m\u001b[0;34m.\u001b[0m\u001b[0mon_epoch_end\u001b[0m\u001b[0;34m(\u001b[0m\u001b[0mepoch\u001b[0m\u001b[0;34m,\u001b[0m \u001b[0mepoch_logs\u001b[0m\u001b[0;34m)\u001b[0m\u001b[0;34m\u001b[0m\u001b[0;34m\u001b[0m\u001b[0m\n\u001b[0m\u001b[1;32m    772\u001b[0m       \u001b[0mself\u001b[0m\u001b[0;34m.\u001b[0m\u001b[0mprogbar\u001b[0m\u001b[0;34m.\u001b[0m\u001b[0mon_epoch_end\u001b[0m\u001b[0;34m(\u001b[0m\u001b[0mepoch\u001b[0m\u001b[0;34m,\u001b[0m \u001b[0mepoch_logs\u001b[0m\u001b[0;34m)\u001b[0m\u001b[0;34m\u001b[0m\u001b[0;34m\u001b[0m\u001b[0m\n\u001b[1;32m    773\u001b[0m \u001b[0;34m\u001b[0m\u001b[0m\n",
      "\u001b[0;32m/usr/local/lib/python3.7/site-packages/tensorflow_core/python/keras/callbacks.py\u001b[0m in \u001b[0;36mon_epoch_end\u001b[0;34m(self, epoch, logs)\u001b[0m\n\u001b[1;32m    300\u001b[0m     \u001b[0mlogs\u001b[0m \u001b[0;34m=\u001b[0m \u001b[0mlogs\u001b[0m \u001b[0;32mor\u001b[0m \u001b[0;34m{\u001b[0m\u001b[0;34m}\u001b[0m\u001b[0;34m\u001b[0m\u001b[0;34m\u001b[0m\u001b[0m\n\u001b[1;32m    301\u001b[0m     \u001b[0;32mfor\u001b[0m \u001b[0mcallback\u001b[0m \u001b[0;32min\u001b[0m \u001b[0mself\u001b[0m\u001b[0;34m.\u001b[0m\u001b[0mcallbacks\u001b[0m\u001b[0;34m:\u001b[0m\u001b[0;34m\u001b[0m\u001b[0;34m\u001b[0m\u001b[0m\n\u001b[0;32m--> 302\u001b[0;31m       \u001b[0mcallback\u001b[0m\u001b[0;34m.\u001b[0m\u001b[0mon_epoch_end\u001b[0m\u001b[0;34m(\u001b[0m\u001b[0mepoch\u001b[0m\u001b[0;34m,\u001b[0m \u001b[0mlogs\u001b[0m\u001b[0;34m)\u001b[0m\u001b[0;34m\u001b[0m\u001b[0;34m\u001b[0m\u001b[0m\n\u001b[0m\u001b[1;32m    303\u001b[0m \u001b[0;34m\u001b[0m\u001b[0m\n\u001b[1;32m    304\u001b[0m   \u001b[0;32mdef\u001b[0m \u001b[0mon_train_batch_begin\u001b[0m\u001b[0;34m(\u001b[0m\u001b[0mself\u001b[0m\u001b[0;34m,\u001b[0m \u001b[0mbatch\u001b[0m\u001b[0;34m,\u001b[0m \u001b[0mlogs\u001b[0m\u001b[0;34m=\u001b[0m\u001b[0;32mNone\u001b[0m\u001b[0;34m)\u001b[0m\u001b[0;34m:\u001b[0m\u001b[0;34m\u001b[0m\u001b[0;34m\u001b[0m\u001b[0m\n",
      "\u001b[0;32m<ipython-input-210-995541c0d969>\u001b[0m in \u001b[0;36mon_epoch_end\u001b[0;34m(epoch, _)\u001b[0m\n\u001b[1;32m     19\u001b[0m                 \u001b[0mx_pred\u001b[0m\u001b[0;34m[\u001b[0m\u001b[0;36m0\u001b[0m\u001b[0;34m,\u001b[0m \u001b[0mt\u001b[0m\u001b[0;34m,\u001b[0m \u001b[0mchar_indices\u001b[0m\u001b[0;34m[\u001b[0m\u001b[0mchar\u001b[0m\u001b[0;34m]\u001b[0m\u001b[0;34m]\u001b[0m \u001b[0;34m=\u001b[0m \u001b[0;36m1.\u001b[0m\u001b[0;34m\u001b[0m\u001b[0;34m\u001b[0m\u001b[0m\n\u001b[1;32m     20\u001b[0m \u001b[0;34m\u001b[0m\u001b[0m\n\u001b[0;32m---> 21\u001b[0;31m             \u001b[0mpreds\u001b[0m \u001b[0;34m=\u001b[0m \u001b[0mmodel\u001b[0m\u001b[0;34m.\u001b[0m\u001b[0mpredict\u001b[0m\u001b[0;34m(\u001b[0m\u001b[0mx_pred\u001b[0m\u001b[0;34m,\u001b[0m \u001b[0mverbose\u001b[0m\u001b[0;34m=\u001b[0m\u001b[0;36m0\u001b[0m\u001b[0;34m)\u001b[0m\u001b[0;34m[\u001b[0m\u001b[0;36m0\u001b[0m\u001b[0;34m]\u001b[0m\u001b[0;34m\u001b[0m\u001b[0;34m\u001b[0m\u001b[0m\n\u001b[0m\u001b[1;32m     22\u001b[0m             \u001b[0mnext_index\u001b[0m \u001b[0;34m=\u001b[0m \u001b[0msample\u001b[0m\u001b[0;34m(\u001b[0m\u001b[0mpreds\u001b[0m\u001b[0;34m,\u001b[0m \u001b[0mtemperature\u001b[0m\u001b[0;34m)\u001b[0m\u001b[0;34m\u001b[0m\u001b[0;34m\u001b[0m\u001b[0m\n\u001b[1;32m     23\u001b[0m             \u001b[0mnext_char\u001b[0m \u001b[0;34m=\u001b[0m \u001b[0mindices_char\u001b[0m\u001b[0;34m[\u001b[0m\u001b[0mnext_index\u001b[0m\u001b[0;34m]\u001b[0m\u001b[0;34m\u001b[0m\u001b[0;34m\u001b[0m\u001b[0m\n",
      "\u001b[0;32m/usr/local/lib/python3.7/site-packages/tensorflow_core/python/keras/engine/training.py\u001b[0m in \u001b[0;36mpredict\u001b[0;34m(self, x, batch_size, verbose, steps, callbacks, max_queue_size, workers, use_multiprocessing)\u001b[0m\n\u001b[1;32m   1011\u001b[0m         \u001b[0mmax_queue_size\u001b[0m\u001b[0;34m=\u001b[0m\u001b[0mmax_queue_size\u001b[0m\u001b[0;34m,\u001b[0m\u001b[0;34m\u001b[0m\u001b[0;34m\u001b[0m\u001b[0m\n\u001b[1;32m   1012\u001b[0m         \u001b[0mworkers\u001b[0m\u001b[0;34m=\u001b[0m\u001b[0mworkers\u001b[0m\u001b[0;34m,\u001b[0m\u001b[0;34m\u001b[0m\u001b[0;34m\u001b[0m\u001b[0m\n\u001b[0;32m-> 1013\u001b[0;31m         use_multiprocessing=use_multiprocessing)\n\u001b[0m\u001b[1;32m   1014\u001b[0m \u001b[0;34m\u001b[0m\u001b[0m\n\u001b[1;32m   1015\u001b[0m   \u001b[0;32mdef\u001b[0m \u001b[0mreset_metrics\u001b[0m\u001b[0;34m(\u001b[0m\u001b[0mself\u001b[0m\u001b[0;34m)\u001b[0m\u001b[0;34m:\u001b[0m\u001b[0;34m\u001b[0m\u001b[0;34m\u001b[0m\u001b[0m\n",
      "\u001b[0;32m/usr/local/lib/python3.7/site-packages/tensorflow_core/python/keras/engine/training_v2.py\u001b[0m in \u001b[0;36mpredict\u001b[0;34m(self, model, x, batch_size, verbose, steps, callbacks, max_queue_size, workers, use_multiprocessing, **kwargs)\u001b[0m\n\u001b[1;32m    496\u001b[0m         \u001b[0mmodel\u001b[0m\u001b[0;34m,\u001b[0m \u001b[0mModeKeys\u001b[0m\u001b[0;34m.\u001b[0m\u001b[0mPREDICT\u001b[0m\u001b[0;34m,\u001b[0m \u001b[0mx\u001b[0m\u001b[0;34m=\u001b[0m\u001b[0mx\u001b[0m\u001b[0;34m,\u001b[0m \u001b[0mbatch_size\u001b[0m\u001b[0;34m=\u001b[0m\u001b[0mbatch_size\u001b[0m\u001b[0;34m,\u001b[0m \u001b[0mverbose\u001b[0m\u001b[0;34m=\u001b[0m\u001b[0mverbose\u001b[0m\u001b[0;34m,\u001b[0m\u001b[0;34m\u001b[0m\u001b[0;34m\u001b[0m\u001b[0m\n\u001b[1;32m    497\u001b[0m         \u001b[0msteps\u001b[0m\u001b[0;34m=\u001b[0m\u001b[0msteps\u001b[0m\u001b[0;34m,\u001b[0m \u001b[0mcallbacks\u001b[0m\u001b[0;34m=\u001b[0m\u001b[0mcallbacks\u001b[0m\u001b[0;34m,\u001b[0m \u001b[0mmax_queue_size\u001b[0m\u001b[0;34m=\u001b[0m\u001b[0mmax_queue_size\u001b[0m\u001b[0;34m,\u001b[0m\u001b[0;34m\u001b[0m\u001b[0;34m\u001b[0m\u001b[0m\n\u001b[0;32m--> 498\u001b[0;31m         workers=workers, use_multiprocessing=use_multiprocessing, **kwargs)\n\u001b[0m\u001b[1;32m    499\u001b[0m \u001b[0;34m\u001b[0m\u001b[0m\n\u001b[1;32m    500\u001b[0m \u001b[0;34m\u001b[0m\u001b[0m\n",
      "\u001b[0;32m/usr/local/lib/python3.7/site-packages/tensorflow_core/python/keras/engine/training_v2.py\u001b[0m in \u001b[0;36m_model_iteration\u001b[0;34m(self, model, mode, x, y, batch_size, verbose, sample_weight, steps, callbacks, max_queue_size, workers, use_multiprocessing, **kwargs)\u001b[0m\n\u001b[1;32m    424\u001b[0m           \u001b[0mmax_queue_size\u001b[0m\u001b[0;34m=\u001b[0m\u001b[0mmax_queue_size\u001b[0m\u001b[0;34m,\u001b[0m\u001b[0;34m\u001b[0m\u001b[0;34m\u001b[0m\u001b[0m\n\u001b[1;32m    425\u001b[0m           \u001b[0mworkers\u001b[0m\u001b[0;34m=\u001b[0m\u001b[0mworkers\u001b[0m\u001b[0;34m,\u001b[0m\u001b[0;34m\u001b[0m\u001b[0;34m\u001b[0m\u001b[0m\n\u001b[0;32m--> 426\u001b[0;31m           use_multiprocessing=use_multiprocessing)\n\u001b[0m\u001b[1;32m    427\u001b[0m       \u001b[0mtotal_samples\u001b[0m \u001b[0;34m=\u001b[0m \u001b[0m_get_total_number_of_samples\u001b[0m\u001b[0;34m(\u001b[0m\u001b[0madapter\u001b[0m\u001b[0;34m)\u001b[0m\u001b[0;34m\u001b[0m\u001b[0;34m\u001b[0m\u001b[0m\n\u001b[1;32m    428\u001b[0m       \u001b[0muse_sample\u001b[0m \u001b[0;34m=\u001b[0m \u001b[0mtotal_samples\u001b[0m \u001b[0;32mis\u001b[0m \u001b[0;32mnot\u001b[0m \u001b[0;32mNone\u001b[0m\u001b[0;34m\u001b[0m\u001b[0;34m\u001b[0m\u001b[0m\n",
      "\u001b[0;32m/usr/local/lib/python3.7/site-packages/tensorflow_core/python/keras/engine/training_v2.py\u001b[0m in \u001b[0;36m_process_inputs\u001b[0;34m(model, mode, x, y, batch_size, epochs, sample_weights, class_weights, shuffle, steps, distribution_strategy, max_queue_size, workers, use_multiprocessing)\u001b[0m\n\u001b[1;32m    704\u001b[0m       \u001b[0mmax_queue_size\u001b[0m\u001b[0;34m=\u001b[0m\u001b[0mmax_queue_size\u001b[0m\u001b[0;34m,\u001b[0m\u001b[0;34m\u001b[0m\u001b[0;34m\u001b[0m\u001b[0m\n\u001b[1;32m    705\u001b[0m       \u001b[0mworkers\u001b[0m\u001b[0;34m=\u001b[0m\u001b[0mworkers\u001b[0m\u001b[0;34m,\u001b[0m\u001b[0;34m\u001b[0m\u001b[0;34m\u001b[0m\u001b[0m\n\u001b[0;32m--> 706\u001b[0;31m       use_multiprocessing=use_multiprocessing)\n\u001b[0m\u001b[1;32m    707\u001b[0m \u001b[0;34m\u001b[0m\u001b[0m\n\u001b[1;32m    708\u001b[0m   \u001b[0;32mreturn\u001b[0m \u001b[0madapter\u001b[0m\u001b[0;34m\u001b[0m\u001b[0;34m\u001b[0m\u001b[0m\n",
      "\u001b[0;32m/usr/local/lib/python3.7/site-packages/tensorflow_core/python/keras/engine/data_adapter.py\u001b[0m in \u001b[0;36m__init__\u001b[0;34m(self, x, y, sample_weights, sample_weight_modes, batch_size, epochs, steps, shuffle, **kwargs)\u001b[0m\n\u001b[1;32m    353\u001b[0m       \u001b[0;32mreturn\u001b[0m \u001b[0mflat_dataset\u001b[0m\u001b[0;34m\u001b[0m\u001b[0;34m\u001b[0m\u001b[0m\n\u001b[1;32m    354\u001b[0m \u001b[0;34m\u001b[0m\u001b[0m\n\u001b[0;32m--> 355\u001b[0;31m     \u001b[0mindices_dataset\u001b[0m \u001b[0;34m=\u001b[0m \u001b[0mindices_dataset\u001b[0m\u001b[0;34m.\u001b[0m\u001b[0mflat_map\u001b[0m\u001b[0;34m(\u001b[0m\u001b[0mslice_batch_indices\u001b[0m\u001b[0;34m)\u001b[0m\u001b[0;34m\u001b[0m\u001b[0;34m\u001b[0m\u001b[0m\n\u001b[0m\u001b[1;32m    356\u001b[0m \u001b[0;34m\u001b[0m\u001b[0m\n\u001b[1;32m    357\u001b[0m     \u001b[0mdataset\u001b[0m \u001b[0;34m=\u001b[0m \u001b[0mself\u001b[0m\u001b[0;34m.\u001b[0m\u001b[0mslice_inputs\u001b[0m\u001b[0;34m(\u001b[0m\u001b[0mindices_dataset\u001b[0m\u001b[0;34m,\u001b[0m \u001b[0minputs\u001b[0m\u001b[0;34m)\u001b[0m\u001b[0;34m\u001b[0m\u001b[0;34m\u001b[0m\u001b[0m\n",
      "\u001b[0;32m/usr/local/lib/python3.7/site-packages/tensorflow_core/python/data/ops/dataset_ops.py\u001b[0m in \u001b[0;36mflat_map\u001b[0;34m(self, map_func)\u001b[0m\n\u001b[1;32m   1613\u001b[0m       \u001b[0mDataset\u001b[0m\u001b[0;34m:\u001b[0m \u001b[0mA\u001b[0m\u001b[0;31m \u001b[0m\u001b[0;31m`\u001b[0m\u001b[0mDataset\u001b[0m\u001b[0;31m`\u001b[0m\u001b[0;34m.\u001b[0m\u001b[0;34m\u001b[0m\u001b[0;34m\u001b[0m\u001b[0m\n\u001b[1;32m   1614\u001b[0m     \"\"\"\n\u001b[0;32m-> 1615\u001b[0;31m     \u001b[0;32mreturn\u001b[0m \u001b[0mFlatMapDataset\u001b[0m\u001b[0;34m(\u001b[0m\u001b[0mself\u001b[0m\u001b[0;34m,\u001b[0m \u001b[0mmap_func\u001b[0m\u001b[0;34m)\u001b[0m\u001b[0;34m\u001b[0m\u001b[0;34m\u001b[0m\u001b[0m\n\u001b[0m\u001b[1;32m   1616\u001b[0m \u001b[0;34m\u001b[0m\u001b[0m\n\u001b[1;32m   1617\u001b[0m   def interleave(self,\n",
      "\u001b[0;32m/usr/local/lib/python3.7/site-packages/tensorflow_core/python/data/ops/dataset_ops.py\u001b[0m in \u001b[0;36m__init__\u001b[0;34m(self, input_dataset, map_func)\u001b[0m\n\u001b[1;32m   3956\u001b[0m     \u001b[0mself\u001b[0m\u001b[0;34m.\u001b[0m\u001b[0m_input_dataset\u001b[0m \u001b[0;34m=\u001b[0m \u001b[0minput_dataset\u001b[0m\u001b[0;34m\u001b[0m\u001b[0;34m\u001b[0m\u001b[0m\n\u001b[1;32m   3957\u001b[0m     self._map_func = StructuredFunctionWrapper(\n\u001b[0;32m-> 3958\u001b[0;31m         map_func, self._transformation_name(), dataset=input_dataset)\n\u001b[0m\u001b[1;32m   3959\u001b[0m     \u001b[0;32mif\u001b[0m \u001b[0;32mnot\u001b[0m \u001b[0misinstance\u001b[0m\u001b[0;34m(\u001b[0m\u001b[0mself\u001b[0m\u001b[0;34m.\u001b[0m\u001b[0m_map_func\u001b[0m\u001b[0;34m.\u001b[0m\u001b[0moutput_structure\u001b[0m\u001b[0;34m,\u001b[0m \u001b[0mDatasetSpec\u001b[0m\u001b[0;34m)\u001b[0m\u001b[0;34m:\u001b[0m\u001b[0;34m\u001b[0m\u001b[0;34m\u001b[0m\u001b[0m\n\u001b[1;32m   3960\u001b[0m       raise TypeError(\n",
      "\u001b[0;32m/usr/local/lib/python3.7/site-packages/tensorflow_core/python/data/ops/dataset_ops.py\u001b[0m in \u001b[0;36m__init__\u001b[0;34m(self, func, transformation_name, dataset, input_classes, input_shapes, input_types, input_structure, add_to_graph, use_legacy_function, defun_kwargs)\u001b[0m\n\u001b[1;32m   3145\u001b[0m       \u001b[0;32mwith\u001b[0m \u001b[0mtracking\u001b[0m\u001b[0;34m.\u001b[0m\u001b[0mresource_tracker_scope\u001b[0m\u001b[0;34m(\u001b[0m\u001b[0mresource_tracker\u001b[0m\u001b[0;34m)\u001b[0m\u001b[0;34m:\u001b[0m\u001b[0;34m\u001b[0m\u001b[0;34m\u001b[0m\u001b[0m\n\u001b[1;32m   3146\u001b[0m         \u001b[0;31m# TODO(b/141462134): Switch to using garbage collection.\u001b[0m\u001b[0;34m\u001b[0m\u001b[0;34m\u001b[0m\u001b[0;34m\u001b[0m\u001b[0m\n\u001b[0;32m-> 3147\u001b[0;31m         \u001b[0mself\u001b[0m\u001b[0;34m.\u001b[0m\u001b[0m_function\u001b[0m \u001b[0;34m=\u001b[0m \u001b[0mwrapper_fn\u001b[0m\u001b[0;34m.\u001b[0m\u001b[0m_get_concrete_function_internal\u001b[0m\u001b[0;34m(\u001b[0m\u001b[0;34m)\u001b[0m\u001b[0;34m\u001b[0m\u001b[0;34m\u001b[0m\u001b[0m\n\u001b[0m\u001b[1;32m   3148\u001b[0m \u001b[0;34m\u001b[0m\u001b[0m\n\u001b[1;32m   3149\u001b[0m         \u001b[0;32mif\u001b[0m \u001b[0madd_to_graph\u001b[0m\u001b[0;34m:\u001b[0m\u001b[0;34m\u001b[0m\u001b[0;34m\u001b[0m\u001b[0m\n",
      "\u001b[0;32m/usr/local/lib/python3.7/site-packages/tensorflow_core/python/eager/function.py\u001b[0m in \u001b[0;36m_get_concrete_function_internal\u001b[0;34m(self, *args, **kwargs)\u001b[0m\n\u001b[1;32m   2393\u001b[0m     \u001b[0;34m\"\"\"Bypasses error checking when getting a graph function.\"\"\"\u001b[0m\u001b[0;34m\u001b[0m\u001b[0;34m\u001b[0m\u001b[0m\n\u001b[1;32m   2394\u001b[0m     graph_function = self._get_concrete_function_internal_garbage_collected(\n\u001b[0;32m-> 2395\u001b[0;31m         *args, **kwargs)\n\u001b[0m\u001b[1;32m   2396\u001b[0m     \u001b[0;31m# We're returning this concrete function to someone, and they may keep a\u001b[0m\u001b[0;34m\u001b[0m\u001b[0;34m\u001b[0m\u001b[0;34m\u001b[0m\u001b[0m\n\u001b[1;32m   2397\u001b[0m     \u001b[0;31m# reference to the FuncGraph without keeping a reference to the\u001b[0m\u001b[0;34m\u001b[0m\u001b[0;34m\u001b[0m\u001b[0;34m\u001b[0m\u001b[0m\n",
      "\u001b[0;32m/usr/local/lib/python3.7/site-packages/tensorflow_core/python/eager/function.py\u001b[0m in \u001b[0;36m_get_concrete_function_internal_garbage_collected\u001b[0;34m(self, *args, **kwargs)\u001b[0m\n\u001b[1;32m   2387\u001b[0m       \u001b[0margs\u001b[0m\u001b[0;34m,\u001b[0m \u001b[0mkwargs\u001b[0m \u001b[0;34m=\u001b[0m \u001b[0;32mNone\u001b[0m\u001b[0;34m,\u001b[0m \u001b[0;32mNone\u001b[0m\u001b[0;34m\u001b[0m\u001b[0;34m\u001b[0m\u001b[0m\n\u001b[1;32m   2388\u001b[0m     \u001b[0;32mwith\u001b[0m \u001b[0mself\u001b[0m\u001b[0;34m.\u001b[0m\u001b[0m_lock\u001b[0m\u001b[0;34m:\u001b[0m\u001b[0;34m\u001b[0m\u001b[0;34m\u001b[0m\u001b[0m\n\u001b[0;32m-> 2389\u001b[0;31m       \u001b[0mgraph_function\u001b[0m\u001b[0;34m,\u001b[0m \u001b[0m_\u001b[0m\u001b[0;34m,\u001b[0m \u001b[0m_\u001b[0m \u001b[0;34m=\u001b[0m \u001b[0mself\u001b[0m\u001b[0;34m.\u001b[0m\u001b[0m_maybe_define_function\u001b[0m\u001b[0;34m(\u001b[0m\u001b[0margs\u001b[0m\u001b[0;34m,\u001b[0m \u001b[0mkwargs\u001b[0m\u001b[0;34m)\u001b[0m\u001b[0;34m\u001b[0m\u001b[0;34m\u001b[0m\u001b[0m\n\u001b[0m\u001b[1;32m   2390\u001b[0m     \u001b[0;32mreturn\u001b[0m \u001b[0mgraph_function\u001b[0m\u001b[0;34m\u001b[0m\u001b[0;34m\u001b[0m\u001b[0m\n\u001b[1;32m   2391\u001b[0m \u001b[0;34m\u001b[0m\u001b[0m\n",
      "\u001b[0;32m/usr/local/lib/python3.7/site-packages/tensorflow_core/python/eager/function.py\u001b[0m in \u001b[0;36m_maybe_define_function\u001b[0;34m(self, args, kwargs)\u001b[0m\n\u001b[1;32m   2701\u001b[0m \u001b[0;34m\u001b[0m\u001b[0m\n\u001b[1;32m   2702\u001b[0m       \u001b[0mself\u001b[0m\u001b[0;34m.\u001b[0m\u001b[0m_function_cache\u001b[0m\u001b[0;34m.\u001b[0m\u001b[0mmissed\u001b[0m\u001b[0;34m.\u001b[0m\u001b[0madd\u001b[0m\u001b[0;34m(\u001b[0m\u001b[0mcall_context_key\u001b[0m\u001b[0;34m)\u001b[0m\u001b[0;34m\u001b[0m\u001b[0;34m\u001b[0m\u001b[0m\n\u001b[0;32m-> 2703\u001b[0;31m       \u001b[0mgraph_function\u001b[0m \u001b[0;34m=\u001b[0m \u001b[0mself\u001b[0m\u001b[0;34m.\u001b[0m\u001b[0m_create_graph_function\u001b[0m\u001b[0;34m(\u001b[0m\u001b[0margs\u001b[0m\u001b[0;34m,\u001b[0m \u001b[0mkwargs\u001b[0m\u001b[0;34m)\u001b[0m\u001b[0;34m\u001b[0m\u001b[0;34m\u001b[0m\u001b[0m\n\u001b[0m\u001b[1;32m   2704\u001b[0m       \u001b[0mself\u001b[0m\u001b[0;34m.\u001b[0m\u001b[0m_function_cache\u001b[0m\u001b[0;34m.\u001b[0m\u001b[0mprimary\u001b[0m\u001b[0;34m[\u001b[0m\u001b[0mcache_key\u001b[0m\u001b[0;34m]\u001b[0m \u001b[0;34m=\u001b[0m \u001b[0mgraph_function\u001b[0m\u001b[0;34m\u001b[0m\u001b[0;34m\u001b[0m\u001b[0m\n\u001b[1;32m   2705\u001b[0m       \u001b[0;32mreturn\u001b[0m \u001b[0mgraph_function\u001b[0m\u001b[0;34m,\u001b[0m \u001b[0margs\u001b[0m\u001b[0;34m,\u001b[0m \u001b[0mkwargs\u001b[0m\u001b[0;34m\u001b[0m\u001b[0;34m\u001b[0m\u001b[0m\n",
      "\u001b[0;32m/usr/local/lib/python3.7/site-packages/tensorflow_core/python/eager/function.py\u001b[0m in \u001b[0;36m_create_graph_function\u001b[0;34m(self, args, kwargs, override_flat_arg_shapes)\u001b[0m\n\u001b[1;32m   2591\u001b[0m             \u001b[0marg_names\u001b[0m\u001b[0;34m=\u001b[0m\u001b[0marg_names\u001b[0m\u001b[0;34m,\u001b[0m\u001b[0;34m\u001b[0m\u001b[0;34m\u001b[0m\u001b[0m\n\u001b[1;32m   2592\u001b[0m             \u001b[0moverride_flat_arg_shapes\u001b[0m\u001b[0;34m=\u001b[0m\u001b[0moverride_flat_arg_shapes\u001b[0m\u001b[0;34m,\u001b[0m\u001b[0;34m\u001b[0m\u001b[0;34m\u001b[0m\u001b[0m\n\u001b[0;32m-> 2593\u001b[0;31m             capture_by_value=self._capture_by_value),\n\u001b[0m\u001b[1;32m   2594\u001b[0m         \u001b[0mself\u001b[0m\u001b[0;34m.\u001b[0m\u001b[0m_function_attributes\u001b[0m\u001b[0;34m,\u001b[0m\u001b[0;34m\u001b[0m\u001b[0;34m\u001b[0m\u001b[0m\n\u001b[1;32m   2595\u001b[0m         \u001b[0;31m# Tell the ConcreteFunction to clean up its graph once it goes out of\u001b[0m\u001b[0;34m\u001b[0m\u001b[0;34m\u001b[0m\u001b[0;34m\u001b[0m\u001b[0m\n",
      "\u001b[0;32m/usr/local/lib/python3.7/site-packages/tensorflow_core/python/framework/func_graph.py\u001b[0m in \u001b[0;36mfunc_graph_from_py_func\u001b[0;34m(name, python_func, args, kwargs, signature, func_graph, autograph, autograph_options, add_control_dependencies, arg_names, op_return_value, collections, capture_by_value, override_flat_arg_shapes)\u001b[0m\n\u001b[1;32m    976\u001b[0m                                           converted_func)\n\u001b[1;32m    977\u001b[0m \u001b[0;34m\u001b[0m\u001b[0m\n\u001b[0;32m--> 978\u001b[0;31m       \u001b[0mfunc_outputs\u001b[0m \u001b[0;34m=\u001b[0m \u001b[0mpython_func\u001b[0m\u001b[0;34m(\u001b[0m\u001b[0;34m*\u001b[0m\u001b[0mfunc_args\u001b[0m\u001b[0;34m,\u001b[0m \u001b[0;34m**\u001b[0m\u001b[0mfunc_kwargs\u001b[0m\u001b[0;34m)\u001b[0m\u001b[0;34m\u001b[0m\u001b[0;34m\u001b[0m\u001b[0m\n\u001b[0m\u001b[1;32m    979\u001b[0m \u001b[0;34m\u001b[0m\u001b[0m\n\u001b[1;32m    980\u001b[0m       \u001b[0;31m# invariant: `func_outputs` contains only Tensors, CompositeTensors,\u001b[0m\u001b[0;34m\u001b[0m\u001b[0;34m\u001b[0m\u001b[0;34m\u001b[0m\u001b[0m\n",
      "\u001b[0;32m/usr/local/lib/python3.7/site-packages/tensorflow_core/python/data/ops/dataset_ops.py\u001b[0m in \u001b[0;36mwrapper_fn\u001b[0;34m(*args)\u001b[0m\n\u001b[1;32m   3138\u001b[0m           attributes=defun_kwargs)\n\u001b[1;32m   3139\u001b[0m       \u001b[0;32mdef\u001b[0m \u001b[0mwrapper_fn\u001b[0m\u001b[0;34m(\u001b[0m\u001b[0;34m*\u001b[0m\u001b[0margs\u001b[0m\u001b[0;34m)\u001b[0m\u001b[0;34m:\u001b[0m  \u001b[0;31m# pylint: disable=missing-docstring\u001b[0m\u001b[0;34m\u001b[0m\u001b[0;34m\u001b[0m\u001b[0m\n\u001b[0;32m-> 3140\u001b[0;31m         \u001b[0mret\u001b[0m \u001b[0;34m=\u001b[0m \u001b[0m_wrapper_helper\u001b[0m\u001b[0;34m(\u001b[0m\u001b[0;34m*\u001b[0m\u001b[0margs\u001b[0m\u001b[0;34m)\u001b[0m\u001b[0;34m\u001b[0m\u001b[0;34m\u001b[0m\u001b[0m\n\u001b[0m\u001b[1;32m   3141\u001b[0m         \u001b[0mret\u001b[0m \u001b[0;34m=\u001b[0m \u001b[0mstructure\u001b[0m\u001b[0;34m.\u001b[0m\u001b[0mto_tensor_list\u001b[0m\u001b[0;34m(\u001b[0m\u001b[0mself\u001b[0m\u001b[0;34m.\u001b[0m\u001b[0m_output_structure\u001b[0m\u001b[0;34m,\u001b[0m \u001b[0mret\u001b[0m\u001b[0;34m)\u001b[0m\u001b[0;34m\u001b[0m\u001b[0;34m\u001b[0m\u001b[0m\n\u001b[1;32m   3142\u001b[0m         \u001b[0;32mreturn\u001b[0m \u001b[0;34m[\u001b[0m\u001b[0mops\u001b[0m\u001b[0;34m.\u001b[0m\u001b[0mconvert_to_tensor\u001b[0m\u001b[0;34m(\u001b[0m\u001b[0mt\u001b[0m\u001b[0;34m)\u001b[0m \u001b[0;32mfor\u001b[0m \u001b[0mt\u001b[0m \u001b[0;32min\u001b[0m \u001b[0mret\u001b[0m\u001b[0;34m]\u001b[0m\u001b[0;34m\u001b[0m\u001b[0;34m\u001b[0m\u001b[0m\n",
      "\u001b[0;32m/usr/local/lib/python3.7/site-packages/tensorflow_core/python/data/ops/dataset_ops.py\u001b[0m in \u001b[0;36m_wrapper_helper\u001b[0;34m(*args)\u001b[0m\n\u001b[1;32m   3080\u001b[0m         \u001b[0mnested_args\u001b[0m \u001b[0;34m=\u001b[0m \u001b[0;34m(\u001b[0m\u001b[0mnested_args\u001b[0m\u001b[0;34m,\u001b[0m\u001b[0;34m)\u001b[0m\u001b[0;34m\u001b[0m\u001b[0;34m\u001b[0m\u001b[0m\n\u001b[1;32m   3081\u001b[0m \u001b[0;34m\u001b[0m\u001b[0m\n\u001b[0;32m-> 3082\u001b[0;31m       \u001b[0mret\u001b[0m \u001b[0;34m=\u001b[0m \u001b[0mautograph\u001b[0m\u001b[0;34m.\u001b[0m\u001b[0mtf_convert\u001b[0m\u001b[0;34m(\u001b[0m\u001b[0mfunc\u001b[0m\u001b[0;34m,\u001b[0m \u001b[0mag_ctx\u001b[0m\u001b[0;34m)\u001b[0m\u001b[0;34m(\u001b[0m\u001b[0;34m*\u001b[0m\u001b[0mnested_args\u001b[0m\u001b[0;34m)\u001b[0m\u001b[0;34m\u001b[0m\u001b[0;34m\u001b[0m\u001b[0m\n\u001b[0m\u001b[1;32m   3083\u001b[0m       \u001b[0;31m# If `func` returns a list of tensors, `nest.flatten()` and\u001b[0m\u001b[0;34m\u001b[0m\u001b[0;34m\u001b[0m\u001b[0;34m\u001b[0m\u001b[0m\n\u001b[1;32m   3084\u001b[0m       \u001b[0;31m# `ops.convert_to_tensor()` would conspire to attempt to stack\u001b[0m\u001b[0;34m\u001b[0m\u001b[0;34m\u001b[0m\u001b[0;34m\u001b[0m\u001b[0m\n",
      "\u001b[0;32m/usr/local/lib/python3.7/site-packages/tensorflow_core/python/autograph/impl/api.py\u001b[0m in \u001b[0;36mwrapper\u001b[0;34m(*args, **kwargs)\u001b[0m\n\u001b[1;32m    232\u001b[0m           optional_features=optional_features)\n\u001b[1;32m    233\u001b[0m       \u001b[0;32mtry\u001b[0m\u001b[0;34m:\u001b[0m\u001b[0;34m\u001b[0m\u001b[0;34m\u001b[0m\u001b[0m\n\u001b[0;32m--> 234\u001b[0;31m         \u001b[0;32mreturn\u001b[0m \u001b[0mconverted_call\u001b[0m\u001b[0;34m(\u001b[0m\u001b[0mf\u001b[0m\u001b[0;34m,\u001b[0m \u001b[0margs\u001b[0m\u001b[0;34m,\u001b[0m \u001b[0mkwargs\u001b[0m\u001b[0;34m,\u001b[0m \u001b[0moptions\u001b[0m\u001b[0;34m=\u001b[0m\u001b[0moptions\u001b[0m\u001b[0;34m)\u001b[0m\u001b[0;34m\u001b[0m\u001b[0;34m\u001b[0m\u001b[0m\n\u001b[0m\u001b[1;32m    235\u001b[0m       \u001b[0;32mexcept\u001b[0m \u001b[0mException\u001b[0m \u001b[0;32mas\u001b[0m \u001b[0me\u001b[0m\u001b[0;34m:\u001b[0m  \u001b[0;31m# pylint:disable=broad-except\u001b[0m\u001b[0;34m\u001b[0m\u001b[0;34m\u001b[0m\u001b[0m\n\u001b[1;32m    236\u001b[0m         \u001b[0;32mif\u001b[0m \u001b[0mhasattr\u001b[0m\u001b[0;34m(\u001b[0m\u001b[0me\u001b[0m\u001b[0;34m,\u001b[0m \u001b[0;34m'ag_error_metadata'\u001b[0m\u001b[0;34m)\u001b[0m\u001b[0;34m:\u001b[0m\u001b[0;34m\u001b[0m\u001b[0;34m\u001b[0m\u001b[0m\n",
      "\u001b[0;32m/usr/local/lib/python3.7/site-packages/tensorflow_core/python/autograph/impl/api.py\u001b[0m in \u001b[0;36mconverted_call\u001b[0;34m(f, args, kwargs, caller_fn_scope, options)\u001b[0m\n\u001b[1;32m    456\u001b[0m     \u001b[0;32mreturn\u001b[0m \u001b[0m_call_unconverted\u001b[0m\u001b[0;34m(\u001b[0m\u001b[0mf\u001b[0m\u001b[0;34m,\u001b[0m \u001b[0margs\u001b[0m\u001b[0;34m,\u001b[0m \u001b[0mkwargs\u001b[0m\u001b[0;34m,\u001b[0m \u001b[0moptions\u001b[0m\u001b[0;34m)\u001b[0m\u001b[0;34m\u001b[0m\u001b[0;34m\u001b[0m\u001b[0m\n\u001b[1;32m    457\u001b[0m \u001b[0;34m\u001b[0m\u001b[0m\n\u001b[0;32m--> 458\u001b[0;31m   \u001b[0;32mif\u001b[0m \u001b[0;32mnot\u001b[0m \u001b[0moptions\u001b[0m\u001b[0;34m.\u001b[0m\u001b[0muser_requested\u001b[0m \u001b[0;32mand\u001b[0m \u001b[0mconversion\u001b[0m\u001b[0;34m.\u001b[0m\u001b[0mis_whitelisted_for_graph\u001b[0m\u001b[0;34m(\u001b[0m\u001b[0mf\u001b[0m\u001b[0;34m)\u001b[0m\u001b[0;34m:\u001b[0m\u001b[0;34m\u001b[0m\u001b[0;34m\u001b[0m\u001b[0m\n\u001b[0m\u001b[1;32m    459\u001b[0m     \u001b[0;32mreturn\u001b[0m \u001b[0m_call_unconverted\u001b[0m\u001b[0;34m(\u001b[0m\u001b[0mf\u001b[0m\u001b[0;34m,\u001b[0m \u001b[0margs\u001b[0m\u001b[0;34m,\u001b[0m \u001b[0mkwargs\u001b[0m\u001b[0;34m,\u001b[0m \u001b[0moptions\u001b[0m\u001b[0;34m)\u001b[0m\u001b[0;34m\u001b[0m\u001b[0;34m\u001b[0m\u001b[0m\n\u001b[1;32m    460\u001b[0m \u001b[0;34m\u001b[0m\u001b[0m\n",
      "\u001b[0;32m/usr/local/lib/python3.7/site-packages/tensorflow_core/python/autograph/impl/conversion.py\u001b[0m in \u001b[0;36mis_whitelisted_for_graph\u001b[0;34m(o, check_call_override, allow_namedtuple_subclass)\u001b[0m\n\u001b[1;32m    360\u001b[0m     \u001b[0;32mfor\u001b[0m \u001b[0mrule\u001b[0m \u001b[0;32min\u001b[0m \u001b[0mconfig\u001b[0m\u001b[0;34m.\u001b[0m\u001b[0mCONVERSION_RULES\u001b[0m\u001b[0;34m:\u001b[0m\u001b[0;34m\u001b[0m\u001b[0;34m\u001b[0m\u001b[0m\n\u001b[1;32m    361\u001b[0m       \u001b[0maction\u001b[0m \u001b[0;34m=\u001b[0m \u001b[0mrule\u001b[0m\u001b[0;34m.\u001b[0m\u001b[0mget_action\u001b[0m\u001b[0;34m(\u001b[0m\u001b[0mm\u001b[0m\u001b[0;34m)\u001b[0m\u001b[0;34m\u001b[0m\u001b[0;34m\u001b[0m\u001b[0m\n\u001b[0;32m--> 362\u001b[0;31m       \u001b[0;32mif\u001b[0m \u001b[0maction\u001b[0m \u001b[0;34m==\u001b[0m \u001b[0mconfig\u001b[0m\u001b[0;34m.\u001b[0m\u001b[0mAction\u001b[0m\u001b[0;34m.\u001b[0m\u001b[0mCONVERT\u001b[0m\u001b[0;34m:\u001b[0m\u001b[0;34m\u001b[0m\u001b[0;34m\u001b[0m\u001b[0m\n\u001b[0m\u001b[1;32m    363\u001b[0m         \u001b[0mlogging\u001b[0m\u001b[0;34m.\u001b[0m\u001b[0mlog\u001b[0m\u001b[0;34m(\u001b[0m\u001b[0;36m2\u001b[0m\u001b[0;34m,\u001b[0m \u001b[0;34m'Not whitelisted: %s: %s'\u001b[0m\u001b[0;34m,\u001b[0m \u001b[0mo\u001b[0m\u001b[0;34m,\u001b[0m \u001b[0mrule\u001b[0m\u001b[0;34m)\u001b[0m\u001b[0;34m\u001b[0m\u001b[0;34m\u001b[0m\u001b[0m\n\u001b[1;32m    364\u001b[0m         \u001b[0;32mreturn\u001b[0m \u001b[0;32mFalse\u001b[0m\u001b[0;34m\u001b[0m\u001b[0;34m\u001b[0m\u001b[0m\n",
      "\u001b[0;31mKeyboardInterrupt\u001b[0m: "
     ]
    }
   ],
   "source": [
    "# Ignore useless W0819 warnings generated by TensorFlow 2.0.  Hopefully can remove this ignore in the future.\n",
    "# See https://github.com/tensorflow/tensorflow/issues/31308\n",
    "import logging, os\n",
    "logging.disable(logging.WARNING)\n",
    "os.environ[\"TF_CPP_MIN_LOG_LEVEL\"] = \"3\"\n",
    "\n",
    "# Fit the model\n",
    "print_callback = LambdaCallback(on_epoch_end=on_epoch_end)\n",
    "\n",
    "model.fit(x, y,\n",
    "          batch_size=128,\n",
    "          epochs=60,\n",
    "          callbacks=[print_callback])"
   ]
  },
  {
   "cell_type": "code",
   "execution_count": null,
   "metadata": {},
   "outputs": [],
   "source": [
    "# Abstractive Summarization Training - Trained online for better resource usage \n",
    "# https://colab.research.google.com/drive/1XOfx9gLHhKlKLjgoJuD4jpjWrG5vyDPC     "
   ]
  }
 ],
 "metadata": {
  "kernelspec": {
   "display_name": "Python 3",
   "language": "python",
   "name": "python3"
  },
  "language_info": {
   "codemirror_mode": {
    "name": "ipython",
    "version": 3
   },
   "file_extension": ".py",
   "mimetype": "text/x-python",
   "name": "python",
   "nbconvert_exporter": "python",
   "pygments_lexer": "ipython3",
   "version": "3.7.6"
  }
 },
 "nbformat": 4,
 "nbformat_minor": 2
}
